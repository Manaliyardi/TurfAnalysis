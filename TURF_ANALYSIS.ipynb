{
 "cells": [
  {
   "cell_type": "code",
   "execution_count": null,
   "metadata": {},
   "outputs": [],
   "source": [
    "# import numpy as np \n",
    "import pandas as pd  \n",
    "import string\n",
    "import itertools\n",
    "from itertools import combinations\n",
    "import math\n",
    "\n",
    "#Prepare Data\n",
    "Data = pd.read_excel(\"/TURF ANALYSIS/Data/Data.xlsx\")\n",
    "Data['M3_ITB'] = Data.M3_ITB.apply(lambda x: x[0: ].split(','))\n",
    "res = Data.set_index(['Respondent_ID'])['M3_ITB'].apply(pd.Series).stack()\n",
    "res = res.reset_index()\n",
    "res.columns = ['Respondent_ID','level_1','Flavor']\n",
    "Data_Bi = res.pivot_table(index ='Respondent_ID', columns ='Flavor' , aggfunc =\"count\" )\n",
    "Data_Bi.columns = Data_Bi.columns.droplevel()  #Delete Multiindex\n",
    "#Data ready to run TURF Analysis\n",
    "Data_Bi = Data_Bi.replace(np.nan, 0)\n",
    "#Get List of Flavors\n",
    "Flavor_List = Data_Bi.columns.values.tolist()\n",
    "\n",
    "def Response(Sample_Size):\n",
    "    Cases = Data_Bi.sum()\n",
    "    Cases = pd.DataFrame(Cases)\n",
    "    Cases.reset_index(inplace = True)\n",
    "    Cases.columns = ['Flavor','Total_Cases']\n",
    "    Cases['Perc_Total_Cases'] = Cases['Total_Cases']/Sample_Size\n",
    "    Cases.sort_values(['Total_Cases'], ascending = False, inplace= True)\n",
    "    return Cases\n",
    "\n",
    "Response(209)  \n",
    "\n",
    "\n",
    "def result(combination, Sample_Size, top):\n",
    "    comb =  list(combinations(Flavor_List, combination))    \n",
    "    for items in comb:\n",
    "        Data_Bi['_'.join(items)] = Data_Bi.loc[:, items].sum(1)\n",
    "\n",
    "    Data_Bi_ = Data_Bi.replace(0, np.nan)\n",
    "    Result = Data_Bi_.count()\n",
    "    Result_Reach = pd.DataFrame(Result)    \n",
    "    Result_Reach.reset_index(inplace = True)\n",
    "    Result_Reach.columns = ['Flavor_Combinations','Reach']\n",
    "    Result_Reach.sort_values(['Reach'], ascending = False, inplace = True)\n",
    "    Result_Reach['Perc_Reach'] = (Result_Reach['Reach']/Sample_Size)*100\n",
    "    Result_Reach['Combination_no'] = combination\n",
    "    Result_Reach_top = Result_Reach.nlargest(top,['Reach'])\n",
    "    return Result_Reach_top \n",
    "\n",
    "Final_result = pd.concat([result(combination=4,Sample_Size=209,top=5),result(combination=5,Sample_Size=209,top=5),result(combination=6,Sample_Size=209,top=5)])\n",
    "    \n",
    "Final_result.to_excel(\"/Final_result.xlsx\")\n"
   ]
  }
 ],
 "metadata": {
  "kernelspec": {
   "display_name": "Python 3",
   "language": "python",
   "name": "python3"
  },
  "language_info": {
   "codemirror_mode": {
    "name": "ipython",
    "version": 3
   },
   "file_extension": ".py",
   "mimetype": "text/x-python",
   "name": "python",
   "nbconvert_exporter": "python",
   "pygments_lexer": "ipython3",
   "version": "3.6.5"
  }
 },
 "nbformat": 4,
 "nbformat_minor": 2
}
